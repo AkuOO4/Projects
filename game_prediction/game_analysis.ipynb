{
 "cells": [
  {
   "cell_type": "code",
   "execution_count": null,
   "metadata": {},
   "outputs": [],
   "source": [
    "import urllib3\n",
    "import json\n",
    "import itertools\n",
    "\n",
    "import pandas as pd\n",
    "import numpy as np\n",
    "\n",
    "\n",
    "\n",
    "\n",
    "\n",
    "\n",
    "\n",
    "\n",
    "\n",
    "\n"
   ]
  },
  {
   "cell_type": "code",
   "execution_count": null,
   "metadata": {},
   "outputs": [],
   "source": [
    "def get_game_data(game_id=1):\n",
    "    game_url=f'https://statsapi.web.nhl.com/api/v1/game/201702{str(gameid).zfill(4)}/feed/live'\n",
    "    http=urllib3.PoolManager()\n",
    "    r=http.request('GET',game_url)\n",
    "    data=json.loads(r.data)\n",
    "\n",
    "    results=data['liveData']['plays']['currentPlay']['about']['goals']\n",
    "\n",
    "    teams={'home_team':data['gameData']['teams']['home']['name'],'away_team':data['gameData']['team']}"
   ]
  }
 ],
 "metadata": {
  "kernelspec": {
   "display_name": "Python 3.11.0 64-bit",
   "language": "python",
   "name": "python3"
  },
  "language_info": {
   "name": "python",
   "version": "3.11.0"
  },
  "orig_nbformat": 4,
  "vscode": {
   "interpreter": {
    "hash": "85c34ac63fd011a9c520ce64ae4e6855631a6c625207a480f2f0b2f8bad2dddc"
   }
  }
 },
 "nbformat": 4,
 "nbformat_minor": 2
}
